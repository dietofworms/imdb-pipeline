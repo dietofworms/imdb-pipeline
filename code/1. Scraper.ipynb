{
 "cells": [
  {
   "cell_type": "markdown",
   "metadata": {},
   "source": [
    "# Scrape the IMDB website\n",
    "\n",
    "![title](../docs/img/img3.png)\n",
    "\n",
    "Collection of functions used to scrape the IMDB website. All functions found in this notebook are also in `imdb_scraper.py` in the same directory."
   ]
  },
  {
   "cell_type": "code",
   "execution_count": 15,
   "metadata": {},
   "outputs": [],
   "source": [
    "# import the required packages\n",
    "from bs4 import BeautifulSoup\n",
    "import requests\n",
    "import json"
   ]
  },
  {
   "cell_type": "markdown",
   "metadata": {},
   "source": [
    "### Process HTML from URL\n",
    "Simple function which uses beautiful soup to process a website given a URL."
   ]
  },
  {
   "cell_type": "code",
   "execution_count": 4,
   "metadata": {},
   "outputs": [],
   "source": [
    "def getHTML(url):\n",
    "    response = requests.get(url)\n",
    "    return BeautifulSoup(response.content,'html.parser')"
   ]
  },
  {
   "cell_type": "markdown",
   "metadata": {},
   "source": [
    "### Parse Persons\n",
    "Function used to parse cast, writers, directors of scraped site."
   ]
  },
  {
   "cell_type": "code",
   "execution_count": 18,
   "metadata": {},
   "outputs": [],
   "source": [
    "def parsePersons(persons):\n",
    "    names = []\n",
    "    if isinstance(persons,dict):\n",
    "        names.append(persons['name'])\n",
    "        return names\n",
    "\n",
    "    for person in persons:\n",
    "        if person['@type'] == \"Person\":\n",
    "            names.append(person['name'])\n",
    "    return names"
   ]
  },
  {
   "cell_type": "markdown",
   "metadata": {},
   "source": [
    "### Generate JSON File\n",
    "This function takes the html generated in `getHTML`, extracts the data into a python dictionary then finally returns a `JSON` file."
   ]
  },
  {
   "cell_type": "code",
   "execution_count": 3,
   "metadata": {},
   "outputs": [],
   "source": [
    "def getJSON(html):\n",
    "    data = {}\n",
    "    data['id'] =  html.find(attrs={'property':'pageId'})['content']\n",
    "    data['url'] = 'https://www.imdb.com/title/'+data['id']\n",
    "    html_json =  html.find(attrs={'type':'application/ld+json'}).text.strip()\n",
    "    fetchedJson = json.loads(html_json)\n",
    "    data['poster'] = html.find(attrs={'class':'poster'}).find('img')['src']\n",
    "    title_wrapper =  html.find(attrs={'class':'title_wrapper'}).text.strip()\n",
    "    data['title'] = title_wrapper[:title_wrapper.find(')')+1]\n",
    "    data['rating'] = html.find(itemprop='ratingValue').text\n",
    "    data['bestRating'] = html.find(itemprop='bestRating').text\n",
    "    data['votes'] = html.find(itemprop='ratingCount').text\n",
    "    data['rated'] = fetchedJson['contentRating']\n",
    "    data['genres'] = fetchedJson['genre']\n",
    "    data['description'] = fetchedJson['description']\n",
    "    data['cast'] = parsePersons(fetchedJson['actor'])\n",
    "    data['writers'] = parsePersons(fetchedJson['creator'])\n",
    "    data['directors'] = parsePersons(fetchedJson['director'])\n",
    "    json_data = json.dumps(data)\n",
    "    return json_data"
   ]
  },
  {
   "cell_type": "markdown",
   "metadata": {},
   "source": [
    "### Handle URL\n",
    "Function used to handle exceptions and concat strings when dealing with the URL input."
   ]
  },
  {
   "cell_type": "code",
   "execution_count": 6,
   "metadata": {},
   "outputs": [],
   "source": [
    "def getURL(input):\n",
    "    try:\n",
    "        if input[0] == 't' and input[1] == 't':\n",
    "            html = getHTML('https://www.imdb.com/title/'+input+'/')\n",
    "\n",
    "        else:\n",
    "            html = getHTML('https://www.google.co.in/search?q='+input)\n",
    "            for cite in html.findAll('cite'):\n",
    "                if 'imdb.com/title/tt' in cite.text:\n",
    "                    html = getHTML(cite.text)\n",
    "                    break\n",
    "        return getJSON(html)\n",
    "    except Exception as e:\n",
    "        print(e)\n",
    "        return 'Invalid input or Network Error!'"
   ]
  },
  {
   "cell_type": "markdown",
   "metadata": {},
   "source": [
    "## Conclusion\n",
    "This notebook walks through the various functions used in the `imdb_scraper.py` file. This python file will be used in the next notebook for further processing."
   ]
  }
 ],
 "metadata": {
  "kernelspec": {
   "display_name": "Python 3",
   "language": "python",
   "name": "python3"
  },
  "language_info": {
   "codemirror_mode": {
    "name": "ipython",
    "version": 3
   },
   "file_extension": ".py",
   "mimetype": "text/x-python",
   "name": "python",
   "nbconvert_exporter": "python",
   "pygments_lexer": "ipython3",
   "version": "3.7.3"
  }
 },
 "nbformat": 4,
 "nbformat_minor": 2
}
