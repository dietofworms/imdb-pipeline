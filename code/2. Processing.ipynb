{
 "cells": [
  {
   "cell_type": "markdown",
   "metadata": {},
   "source": [
    "# Processing the scraped IMDB data\n",
    "\n",
    "![title](../docs/img/img2.png)\n",
    "\n",
    "This notebook builds upon the previous `Scraper.ipynb` and processes the returned `JSON` file."
   ]
  },
  {
   "cell_type": "code",
   "execution_count": 140,
   "metadata": {},
   "outputs": [],
   "source": [
    "import pandas as pd\n",
    "import imdb_scraper as scrape\n",
    "import project_funcs\n",
    "import json\n",
    "import os"
   ]
  },
  {
   "cell_type": "markdown",
   "metadata": {},
   "source": [
    "### Finding the Movies\n",
    "Because we are working with a user-generated list, we cannot use the IMDB API or any third-party alternatives to obtain the film IDs from this page. Instead, we can perform data munging and return a list of IDs."
   ]
  },
  {
   "cell_type": "code",
   "execution_count": 35,
   "metadata": {},
   "outputs": [],
   "source": [
    "def getMovies(url):\n",
    "    ''' scrapes imdb user created list to get the film IDs\n",
    "        these IDs get used in later computation.\n",
    "    '''\n",
    "    response = scrape.getHTML(url)\n",
    "    data = json.loads(response.find('script', type='application/ld+json').text)\n",
    "    data = data['about']['itemListElement']\n",
    "    df = pd.DataFrame(data)\n",
    "    \n",
    "    movies = []\n",
    "    for i in df['url']:\n",
    "        movies.append(i[7:-1]) # slice the string to get only the ID\n",
    "    \n",
    "    return movies"
   ]
  },
  {
   "cell_type": "code",
   "execution_count": 82,
   "metadata": {},
   "outputs": [],
   "source": [
    "url = 'https://www.imdb.com/list/ls076439519/'\n",
    "movies = getMovies(url)\n",
    "print(movies)"
   ]
  },
  {
   "cell_type": "markdown",
   "metadata": {},
   "source": [
    "### Building the Dataset\n",
    "From the list of movies generated above, we can now go ahead and get the required data for each one. The following function parses the list of movie IDs to the `getURL()` function then creates a python list of dictionaries corresponding to an input data row. Then, we create a data frame from that list. This method was chosen over appending to a pre-existing data frame row-by-row because of the huge performance gains, approximately 30x more efficient in regards to the rate of growth given an input."
   ]
  },
  {
   "cell_type": "code",
   "execution_count": 92,
   "metadata": {},
   "outputs": [],
   "source": [
    "def scrapeToDataFrame(movies):\n",
    "    ''' parses list of movie IDs to getURL() function\n",
    "        creates a list of dictionaries then creates a\n",
    "        data frame from this list.\n",
    "    '''\n",
    "    li = []\n",
    "\n",
    "    for i in range(len(movies)-1):\n",
    "        dict1 = {}\n",
    "        item = json.loads(scrape.getURL(movies[i]))\n",
    "        dict1.update(imdbID = item['id'], \n",
    "                     title  = item['title'], \n",
    "                     rating = item['rating'],\n",
    "                     votes  = item['votes'],\n",
    "                     rated  = item['rated'])\n",
    "        li.append(dict1)\n",
    "\n",
    "    df = pd.DataFrame(li)\n",
    "    return df"
   ]
  },
  {
   "cell_type": "code",
   "execution_count": 94,
   "metadata": {},
   "outputs": [],
   "source": [
    "# using movies list created above\n",
    "df = scrapeToDataFrame(movies)"
   ]
  },
  {
   "cell_type": "markdown",
   "metadata": {},
   "source": [
    "### Export to File\n",
    "Now that we have compiled the dataframe, it is time to push this to `.csv` in our `../data/` directory. To do this, we utilise the `change_dir()` function defined in the `project_funcs.py` file. This file contains various functions used throughout the project."
   ]
  },
  {
   "cell_type": "code",
   "execution_count": 150,
   "metadata": {},
   "outputs": [],
   "source": [
    "project_funcs.change_dir('data') # change directory to ../data/\n",
    "path = os.getcwd()\n",
    "export = df.to_csv(r'{}/df.csv'.format(path))"
   ]
  }
 ],
 "metadata": {
  "kernelspec": {
   "display_name": "Python 3",
   "language": "python",
   "name": "python3"
  },
  "language_info": {
   "codemirror_mode": {
    "name": "ipython",
    "version": 3
   },
   "file_extension": ".py",
   "mimetype": "text/x-python",
   "name": "python",
   "nbconvert_exporter": "python",
   "pygments_lexer": "ipython3",
   "version": "3.7.3"
  }
 },
 "nbformat": 4,
 "nbformat_minor": 2
}
