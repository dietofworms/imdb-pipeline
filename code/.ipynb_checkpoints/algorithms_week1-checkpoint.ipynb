{
 "cells": [
  {
   "cell_type": "markdown",
   "metadata": {},
   "source": [
    "# Algorithms: Week 1"
   ]
  },
  {
   "cell_type": "code",
   "execution_count": 56,
   "metadata": {},
   "outputs": [],
   "source": [
    "import math\n",
    "import numpy as np"
   ]
  },
  {
   "cell_type": "markdown",
   "metadata": {},
   "source": [
    "\n"
   ]
  },
  {
   "cell_type": "markdown",
   "metadata": {},
   "source": [
    "Question #1: \n",
    "\n",
    "Order the following functions from lowest to highest in order of runtime."
   ]
  },
  {
   "cell_type": "code",
   "execution_count": 68,
   "metadata": {},
   "outputs": [],
   "source": [
    "def calc(n):\n",
    "    a = n**2 * math.log2(n)\n",
    "    b = 2**n\n",
    "    c = 2**2**n\n",
    "    d = n**math.log2(n)\n",
    "    e = n**2\n",
    "    print('A: ',round(a))\n",
    "    print('B: ',round(b))\n",
    "    print('C: ',round(c))\n",
    "    print('D: ',round(d))\n",
    "    print('E: ',round(e))\n",
    "    #return a,b,c,d,e"
   ]
  },
  {
   "cell_type": "code",
   "execution_count": 70,
   "metadata": {},
   "outputs": [
    {
     "name": "stdout",
     "output_type": "stream",
     "text": [
      "A:  332\n",
      "B:  1024\n",
      "C:  179769313486231590772930519078902473361797697894230657273430081157732675805500963132708477322407536021120113879871393357658789768814416622492847430639474124377767893424865485276302219601246094119453082952085005768838150682342462881473913110540827237163350510684586298239947245938479716304835356329624224137216\n",
      "D:  2099\n",
      "E:  100\n"
     ]
    }
   ],
   "source": [
    "# solution\n",
    "calc(10)"
   ]
  },
  {
   "cell_type": "markdown",
   "metadata": {},
   "source": [
    "---------------------------------------------------"
   ]
  },
  {
   "cell_type": "markdown",
   "metadata": {},
   "source": [
    " "
   ]
  },
  {
   "cell_type": "markdown",
   "metadata": {},
   "source": [
    "## Karatsuba Method\n",
    "\n",
    "The following function calculates the product of two input integers using the Karatsuba Method.\n",
    "\n",
    "$$xy = 10^n ac + 10^{10/n} (ad+bc) + bd$$"
   ]
  },
  {
   "cell_type": "code",
   "execution_count": 37,
   "metadata": {},
   "outputs": [],
   "source": [
    "def karat(x,y):\n",
    "    if len(str(x)) == 1 or len(str(y)) == 1:\n",
    "        return x*y\n",
    "    else:\n",
    "        m = max(len(str(x)),len(str(y))) # get array length\n",
    "        m2 = m // 2 # get array length / 2\n",
    "\n",
    "        a = x // 10**m2 # a, first half digits \n",
    "        b = x % 10**m2  # a, second half digits\n",
    "        c = y // 10**m2 # b, first half digits \n",
    "        d = y % 10**m2  # b, second half digits\n",
    "\n",
    "        z0 = karat(b,d)          # recursively compute bd\n",
    "        z1 = karat((a+b),(c+d))  # recursively compute a+b, c+d\n",
    "        z2 = karat(a,c)          # recursively computer ac\n",
    "\n",
    "        # retur\n",
    "        return (z2 * 10**(2*m2)) + ((z1 - z2 - z0) * 10**(m2)) + (z0)"
   ]
  },
  {
   "cell_type": "code",
   "execution_count": 39,
   "metadata": {},
   "outputs": [
    {
     "data": {
      "text/plain": [
       "8539734222673567065463550869546574495034888535765114961879601127067743044893204848617875072216249073013374895871952806582723184"
      ]
     },
     "execution_count": 39,
     "metadata": {},
     "output_type": "execute_result"
    }
   ],
   "source": [
    "karat(3141592653589793238462643383279502884197169399375105820974944592,\n",
    "      2718281828459045235360287471352662497757247093699959574966967627)"
   ]
  }
 ],
 "metadata": {
  "kernelspec": {
   "display_name": "Python 3",
   "language": "python",
   "name": "python3"
  },
  "language_info": {
   "codemirror_mode": {
    "name": "ipython",
    "version": 3
   },
   "file_extension": ".py",
   "mimetype": "text/x-python",
   "name": "python",
   "nbconvert_exporter": "python",
   "pygments_lexer": "ipython3",
   "version": "3.7.3"
  }
 },
 "nbformat": 4,
 "nbformat_minor": 2
}
