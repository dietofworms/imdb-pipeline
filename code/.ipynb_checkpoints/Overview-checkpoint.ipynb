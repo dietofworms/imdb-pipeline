{
 "cells": [
  {
   "cell_type": "markdown",
   "metadata": {},
   "source": [
    "# Movie Science\n",
    "## Manipulating user-generated content and IMDB data.\n",
    "\n",
    "<a id='s1'></a>\n",
    "\n",
    "Author: S Karmaniolos | Date: Aug-2019 | [@skarmaniolos](https://www.github.com/skarmaniolos)"
   ]
  },
  {
   "cell_type": "markdown",
   "metadata": {},
   "source": [
    "![title](../docs/img/img1.jpg)\n",
    "\n",
    "The following notebook scrapes the IMDB website to obtain data about movies. Rather than use an existing API, whether that be official or third-party, I wanted to build my own data pipeline so that I could specifically work with user-generated IMDB lists. This functionality is not existent in any existing API or any other package (that I am aware of).\n",
    "\n",
    "This project contains notebooks, python files, images, flat files and more. The notebooks follow a walkthrough structure and will lead in to one another following the filename order. The python files provide functions used in data munging, processing and more. "
   ]
  },
  {
   "cell_type": "markdown",
   "metadata": {},
   "source": [
    "----------------------------------------------------------\n",
    "### Project Contents\n",
    "* [Overview](Overview.ipynb#s1)\n",
    "    * An introduction to the project, the contents, the dependencies and more.\n",
    "* [Scraper](Scraper.ipynb#s1)\n",
    "    * Various functions that scrape the IMDB website and parse the contents. \n",
    "* [Processing](Processing.ipynb#s1)\n",
    "    * This notebook uses the previously defined functions to evaluate a given IMDB user list, clean the data and then output the dataframe to `csv`.\n",
    "* [Analysis](Analysis.ipynb#s1) *[In-Progress!]*\n",
    "    * From the `csv` created in Processing, this notebook is where we statistically interrogate the data, perform some EDA and further computation."
   ]
  },
  {
   "cell_type": "markdown",
   "metadata": {},
   "source": [
    "--------------------------------------------------\n",
    "### Contact Information\n",
    "For questions regarding the project or any other enquiry, contact me on Twitter at [@skarmaniolos](https://twitter.com/skarmaniolos) or email me at skarmaniolos (at) pm (dot) me."
   ]
  }
 ],
 "metadata": {
  "kernelspec": {
   "display_name": "Python 3",
   "language": "python",
   "name": "python3"
  },
  "language_info": {
   "codemirror_mode": {
    "name": "ipython",
    "version": 3
   },
   "file_extension": ".py",
   "mimetype": "text/x-python",
   "name": "python",
   "nbconvert_exporter": "python",
   "pygments_lexer": "ipython3",
   "version": "3.7.3"
  }
 },
 "nbformat": 4,
 "nbformat_minor": 2
}
